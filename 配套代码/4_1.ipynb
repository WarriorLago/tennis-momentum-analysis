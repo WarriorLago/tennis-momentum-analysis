{
 "cells": [
  {
   "cell_type": "code",
   "execution_count": 1,
   "metadata": {},
   "outputs": [],
   "source": [
    "import pandas as pd\n",
    "from sklearn.preprocessing import MinMaxScaler\n",
    "import numpy as np\n",
    "data = pd.read_excel('女网球q1.xlsx')\n",
    "\n",
    "# 定义p1和p2的列\n",
    "p1_columns = [\n",
    "    'p1得分', 'p1累计得分次数', 'p1_ace（p1发球制胜球）', 'p1_winner(p1击球制胜球)', 'p1发球失误率', \n",
    "    'p1_unf_err（非受迫性失误）', 'p1_break（赛点得分）', 'p1_distance_run（跑动距离）', 'p1_speed_mph（p1发球速度）'\n",
    "]\n",
    "p2_columns = [\n",
    "    'p2得分', 'p2累计得分次数', 'p2_ace（p2发球制胜球）', 'p2_winner(p2击球制胜球)', 'p2发球失误率', \n",
    "    'p2_unf_err（非受迫性失误）', 'p2_break（赛点得分）', 'p2_distance_run（跑动距离）', 'p2_speed_mph（p2发球速度）'\n",
    "]\n",
    "\n",
    "# 权重\n",
    "weights = np.array([0.25, 0.05, 0.15, 0.15, -0.15, -0.15, 0.1, 0.05, 0.05])\n",
    "\n",
    "# 标准化处理\n",
    "scaler = MinMaxScaler()\n",
    "data_p1_normalized = scaler.fit_transform(data[p1_columns])\n",
    "data_p2_normalized = scaler.fit_transform(data[p2_columns])\n",
    "\n",
    "# 负向指标逆向处理\n",
    "for i in [4, 5]:  # 发球失误率和非受迫性失误的索引\n",
    "    data_p1_normalized[:, i] = 1 - data_p1_normalized[:, i]\n",
    "    data_p2_normalized[:, i] = 1 - data_p2_normalized[:, i]\n",
    "\n",
    "# 计算加权标准化矩阵\n",
    "p1_weighted = data_p1_normalized * weights\n",
    "p2_weighted = data_p2_normalized * weights\n",
    "\n",
    "# 确定正理想解和负理想解\n",
    "positive_ideal_p1 = np.max(p1_weighted, axis=0)\n",
    "negative_ideal_p1 = np.min(p1_weighted, axis=0)\n",
    "positive_ideal_p2 = np.max(p2_weighted, axis=0)\n",
    "negative_ideal_p2 = np.min(p2_weighted, axis=0)\n",
    "\n",
    "# 计算到理想解的距离\n",
    "distance_positive_p1 = np.sqrt(np.sum((p1_weighted - positive_ideal_p1) ** 2, axis=1))\n",
    "distance_negative_p1 = np.sqrt(np.sum((p1_weighted - negative_ideal_p1) ** 2, axis=1))\n",
    "distance_positive_p2 = np.sqrt(np.sum((p2_weighted - positive_ideal_p2) ** 2, axis=1))\n",
    "distance_negative_p2 = np.sqrt(np.sum((p2_weighted - negative_ideal_p2) ** 2, axis=1))\n",
    "\n",
    "# 计算相对接近度\n",
    "closeness_p1 = distance_negative_p1 / (distance_positive_p1 + distance_negative_p1)\n",
    "closeness_p2 = distance_negative_p2 / (distance_positive_p2 + distance_negative_p2)\n",
    "\n",
    "# 将评分添加到原始数据集中\n",
    "data['p1_comprehensive_score'] = closeness_p1\n",
    "data['p2_comprehensive_score'] = closeness_p2\n",
    "\n",
    "\n",
    "\n",
    "# 保存数据集到新的Excel文件\n",
    "data.to_excel('评分.xlsx', index=False)  \n"
   ]
  }
 ],
 "metadata": {
  "kernelspec": {
   "display_name": "Python 3",
   "language": "python",
   "name": "python3"
  },
  "language_info": {
   "codemirror_mode": {
    "name": "ipython",
    "version": 3
   },
   "file_extension": ".py",
   "mimetype": "text/x-python",
   "name": "python",
   "nbconvert_exporter": "python",
   "pygments_lexer": "ipython3",
   "version": "3.11.4"
  }
 },
 "nbformat": 4,
 "nbformat_minor": 2
}
